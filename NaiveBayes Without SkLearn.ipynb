{
 "cells": [
  {
   "cell_type": "markdown",
   "id": "d8966e72",
   "metadata": {},
   "source": [
    "### Imports"
   ]
  },
  {
   "cell_type": "code",
   "execution_count": 1,
   "id": "865b1bcc",
   "metadata": {},
   "outputs": [],
   "source": [
    "import pandas as pd\n",
    "import numpy as np"
   ]
  },
  {
   "cell_type": "code",
   "execution_count": 2,
   "id": "66d03fef",
   "metadata": {},
   "outputs": [
    {
     "data": {
      "text/html": [
       "<div>\n",
       "<style scoped>\n",
       "    .dataframe tbody tr th:only-of-type {\n",
       "        vertical-align: middle;\n",
       "    }\n",
       "\n",
       "    .dataframe tbody tr th {\n",
       "        vertical-align: top;\n",
       "    }\n",
       "\n",
       "    .dataframe thead th {\n",
       "        text-align: right;\n",
       "    }\n",
       "</style>\n",
       "<table border=\"1\" class=\"dataframe\">\n",
       "  <thead>\n",
       "    <tr style=\"text-align: right;\">\n",
       "      <th></th>\n",
       "      <th>Outlook</th>\n",
       "      <th>Temp</th>\n",
       "      <th>Humidity</th>\n",
       "      <th>Windy</th>\n",
       "      <th>Play Golf</th>\n",
       "    </tr>\n",
       "  </thead>\n",
       "  <tbody>\n",
       "    <tr>\n",
       "      <th>0</th>\n",
       "      <td>Rainy</td>\n",
       "      <td>Hot</td>\n",
       "      <td>High</td>\n",
       "      <td>False</td>\n",
       "      <td>No</td>\n",
       "    </tr>\n",
       "    <tr>\n",
       "      <th>1</th>\n",
       "      <td>Rainy</td>\n",
       "      <td>Hot</td>\n",
       "      <td>High</td>\n",
       "      <td>True</td>\n",
       "      <td>No</td>\n",
       "    </tr>\n",
       "    <tr>\n",
       "      <th>2</th>\n",
       "      <td>Overcast</td>\n",
       "      <td>Hot</td>\n",
       "      <td>High</td>\n",
       "      <td>False</td>\n",
       "      <td>Yes</td>\n",
       "    </tr>\n",
       "    <tr>\n",
       "      <th>3</th>\n",
       "      <td>Sunny</td>\n",
       "      <td>Mild</td>\n",
       "      <td>High</td>\n",
       "      <td>False</td>\n",
       "      <td>Yes</td>\n",
       "    </tr>\n",
       "    <tr>\n",
       "      <th>4</th>\n",
       "      <td>Sunny</td>\n",
       "      <td>Cool</td>\n",
       "      <td>Normal</td>\n",
       "      <td>False</td>\n",
       "      <td>Yes</td>\n",
       "    </tr>\n",
       "    <tr>\n",
       "      <th>5</th>\n",
       "      <td>Sunny</td>\n",
       "      <td>Cool</td>\n",
       "      <td>Normal</td>\n",
       "      <td>True</td>\n",
       "      <td>No</td>\n",
       "    </tr>\n",
       "    <tr>\n",
       "      <th>6</th>\n",
       "      <td>Overcast</td>\n",
       "      <td>Cool</td>\n",
       "      <td>Normal</td>\n",
       "      <td>True</td>\n",
       "      <td>Yes</td>\n",
       "    </tr>\n",
       "    <tr>\n",
       "      <th>7</th>\n",
       "      <td>Rainy</td>\n",
       "      <td>Mild</td>\n",
       "      <td>High</td>\n",
       "      <td>False</td>\n",
       "      <td>No</td>\n",
       "    </tr>\n",
       "    <tr>\n",
       "      <th>8</th>\n",
       "      <td>Rainy</td>\n",
       "      <td>Cool</td>\n",
       "      <td>Normal</td>\n",
       "      <td>False</td>\n",
       "      <td>Yes</td>\n",
       "    </tr>\n",
       "    <tr>\n",
       "      <th>9</th>\n",
       "      <td>Sunny</td>\n",
       "      <td>Mild</td>\n",
       "      <td>Normal</td>\n",
       "      <td>False</td>\n",
       "      <td>Yes</td>\n",
       "    </tr>\n",
       "    <tr>\n",
       "      <th>10</th>\n",
       "      <td>Rainy</td>\n",
       "      <td>Mild</td>\n",
       "      <td>Normal</td>\n",
       "      <td>True</td>\n",
       "      <td>Yes</td>\n",
       "    </tr>\n",
       "    <tr>\n",
       "      <th>11</th>\n",
       "      <td>Overcast</td>\n",
       "      <td>Mild</td>\n",
       "      <td>High</td>\n",
       "      <td>True</td>\n",
       "      <td>Yes</td>\n",
       "    </tr>\n",
       "    <tr>\n",
       "      <th>12</th>\n",
       "      <td>Overcast</td>\n",
       "      <td>Hot</td>\n",
       "      <td>Normal</td>\n",
       "      <td>False</td>\n",
       "      <td>Yes</td>\n",
       "    </tr>\n",
       "    <tr>\n",
       "      <th>13</th>\n",
       "      <td>Sunny</td>\n",
       "      <td>Mild</td>\n",
       "      <td>High</td>\n",
       "      <td>True</td>\n",
       "      <td>No</td>\n",
       "    </tr>\n",
       "  </tbody>\n",
       "</table>\n",
       "</div>"
      ],
      "text/plain": [
       "     Outlook  Temp Humidity  Windy Play Golf\n",
       "0      Rainy   Hot     High  False        No\n",
       "1      Rainy   Hot     High   True        No\n",
       "2   Overcast   Hot     High  False       Yes\n",
       "3      Sunny  Mild     High  False       Yes\n",
       "4      Sunny  Cool   Normal  False       Yes\n",
       "5      Sunny  Cool   Normal   True        No\n",
       "6   Overcast  Cool   Normal   True       Yes\n",
       "7      Rainy  Mild     High  False        No\n",
       "8      Rainy  Cool   Normal  False       Yes\n",
       "9      Sunny  Mild   Normal  False       Yes\n",
       "10     Rainy  Mild   Normal   True       Yes\n",
       "11  Overcast  Mild     High   True       Yes\n",
       "12  Overcast   Hot   Normal  False       Yes\n",
       "13     Sunny  Mild     High   True        No"
      ]
     },
     "execution_count": 2,
     "metadata": {},
     "output_type": "execute_result"
    }
   ],
   "source": [
    "df = pd.read_csv('../All Data_Sets/Play_Golf.csv')\n",
    "df"
   ]
  },
  {
   "cell_type": "markdown",
   "id": "fc315cbc",
   "metadata": {},
   "source": [
    "### Naive Bayes Formula"
   ]
  },
  {
   "cell_type": "markdown",
   "id": "9dad06a3",
   "metadata": {},
   "source": [
    "<img src='https://www.saedsayad.com/images/Bayes_rule.png'>"
   ]
  },
  {
   "cell_type": "code",
   "execution_count": 3,
   "id": "f9fee037",
   "metadata": {},
   "outputs": [
    {
     "data": {
      "text/html": [
       "<div>\n",
       "<style scoped>\n",
       "    .dataframe tbody tr th:only-of-type {\n",
       "        vertical-align: middle;\n",
       "    }\n",
       "\n",
       "    .dataframe tbody tr th {\n",
       "        vertical-align: top;\n",
       "    }\n",
       "\n",
       "    .dataframe thead th {\n",
       "        text-align: right;\n",
       "    }\n",
       "</style>\n",
       "<table border=\"1\" class=\"dataframe\">\n",
       "  <thead>\n",
       "    <tr style=\"text-align: right;\">\n",
       "      <th>Play Golf</th>\n",
       "      <th>No</th>\n",
       "      <th>Yes</th>\n",
       "    </tr>\n",
       "    <tr>\n",
       "      <th>Outlook</th>\n",
       "      <th></th>\n",
       "      <th></th>\n",
       "    </tr>\n",
       "  </thead>\n",
       "  <tbody>\n",
       "    <tr>\n",
       "      <th>Overcast</th>\n",
       "      <td>0</td>\n",
       "      <td>4</td>\n",
       "    </tr>\n",
       "    <tr>\n",
       "      <th>Rainy</th>\n",
       "      <td>3</td>\n",
       "      <td>2</td>\n",
       "    </tr>\n",
       "    <tr>\n",
       "      <th>Sunny</th>\n",
       "      <td>2</td>\n",
       "      <td>3</td>\n",
       "    </tr>\n",
       "  </tbody>\n",
       "</table>\n",
       "</div>"
      ],
      "text/plain": [
       "Play Golf  No  Yes\n",
       "Outlook           \n",
       "Overcast    0    4\n",
       "Rainy       3    2\n",
       "Sunny       2    3"
      ]
     },
     "execution_count": 3,
     "metadata": {},
     "output_type": "execute_result"
    }
   ],
   "source": [
    "pd.crosstab(df['Outlook'],df['Play Golf'])"
   ]
  },
  {
   "cell_type": "code",
   "execution_count": 4,
   "id": "0c9c9a74",
   "metadata": {},
   "outputs": [],
   "source": [
    "o_dic = pd.crosstab(df['Outlook'],df['Play Golf']).to_dict()\n",
    "t_dic = pd.crosstab(df['Temp'],df['Play Golf']).to_dict()\n",
    "h_dic = pd.crosstab(df['Humidity'],df['Play Golf']).to_dict()\n",
    "w_dic = pd.crosstab(df['Windy'],df['Play Golf']).to_dict()"
   ]
  },
  {
   "cell_type": "code",
   "execution_count": 5,
   "id": "98999b3e",
   "metadata": {},
   "outputs": [
    {
     "name": "stdout",
     "output_type": "stream",
     "text": [
      "{'Yes': 9, 'No': 5}\n"
     ]
    }
   ],
   "source": [
    "No_Sum = sum(w_dic['No'].values())\n",
    "Yes_Sum = sum(w_dic['Yes'].values())\n",
    "\n",
    "temp_dic = {'Yes':Yes_Sum,'No':No_Sum}\n",
    "print(temp_dic)\n",
    "\n",
    "P_Yes = f\"{temp_dic['Yes']}/{sum(temp_dic.values())}\"\n",
    "P_No = f\"{temp_dic['No']}/{sum(temp_dic.values())}\""
   ]
  },
  {
   "cell_type": "code",
   "execution_count": 6,
   "id": "0d43d02a",
   "metadata": {},
   "outputs": [],
   "source": [
    "for dic in [o_dic,t_dic,h_dic,w_dic]:\n",
    "    for Key,sub_dic in dic.items():\n",
    "        for key,val in sub_dic.items():\n",
    "            dic[Key][key] = f'{val}/{temp_dic[Key]}'"
   ]
  },
  {
   "cell_type": "code",
   "execution_count": 7,
   "id": "60e0d2b2",
   "metadata": {},
   "outputs": [
    {
     "data": {
      "text/html": [
       "<div>\n",
       "<style scoped>\n",
       "    .dataframe tbody tr th:only-of-type {\n",
       "        vertical-align: middle;\n",
       "    }\n",
       "\n",
       "    .dataframe tbody tr th {\n",
       "        vertical-align: top;\n",
       "    }\n",
       "\n",
       "    .dataframe thead th {\n",
       "        text-align: right;\n",
       "    }\n",
       "</style>\n",
       "<table border=\"1\" class=\"dataframe\">\n",
       "  <thead>\n",
       "    <tr style=\"text-align: right;\">\n",
       "      <th></th>\n",
       "      <th>No</th>\n",
       "      <th>Yes</th>\n",
       "    </tr>\n",
       "  </thead>\n",
       "  <tbody>\n",
       "    <tr>\n",
       "      <th>False</th>\n",
       "      <td>2/5</td>\n",
       "      <td>6/9</td>\n",
       "    </tr>\n",
       "    <tr>\n",
       "      <th>True</th>\n",
       "      <td>3/5</td>\n",
       "      <td>3/9</td>\n",
       "    </tr>\n",
       "  </tbody>\n",
       "</table>\n",
       "</div>"
      ],
      "text/plain": [
       "        No  Yes\n",
       "False  2/5  6/9\n",
       "True   3/5  3/9"
      ]
     },
     "execution_count": 7,
     "metadata": {},
     "output_type": "execute_result"
    }
   ],
   "source": [
    "pd.DataFrame(w_dic)"
   ]
  },
  {
   "cell_type": "code",
   "execution_count": 8,
   "id": "80c392c4",
   "metadata": {},
   "outputs": [],
   "source": [
    "def predict(o,t,h,w):\n",
    "    ds = pd.DataFrame([[o,t,h,w]],columns=['Outlook', 'Temp', 'Humidity', 'Windy'])\n",
    "    print('Given Data :\\n',ds,end='\\n\\n')\n",
    "    \n",
    "    print(f\"P(Yes|X) = P({o}|Yes) x P({t}|Yes) x P({h}|Yes) x P({w}|Yes) x P(Yes)\")\n",
    "    print(f\"P(Yes|X) = {o_dic['Yes'][o]} x {t_dic['Yes'][t]} x {h_dic['Yes'][h]} x {w_dic['Yes'][w]} x {P_Yes}\")\n",
    "    Yes_L = eval(f'''{o_dic['Yes'][o]}*{t_dic['Yes'][t]}*{h_dic['Yes'][h]}*{w_dic['Yes'][w]}*{P_Yes}''')\n",
    "    print(f\"P(Yes|X) = {(Yes_L:= round(Yes_L, 5))}\")\n",
    "    \n",
    "    print('\\n\\n')\n",
    "    \n",
    "    print(f\"P(No|X) = P({o}|No) x P({t}|No) x P({h}|No) x P({w}|No) x P(No)\")\n",
    "    print(f\"P(No|X) = {o_dic['No'][o]} x {t_dic['No'][t]} x {h_dic['No'][h]} x {w_dic['No'][w]} x {P_No}\")\n",
    "    No_L = eval(f'''{o_dic['No'][o]}*{t_dic['No'][t]}*{h_dic['No'][h]}*{w_dic['No'][w]}*{P_No}''')\n",
    "    print(f\"P(No|X) = {(No_L:= round(No_L, 5))}\")\n",
    "    \n",
    "    print('\\n\\n')\n",
    "    \n",
    "    Y_L = round(eval(f\"{Yes_L}/{Yes_L + No_L}\"), 5)\n",
    "    N_L = round(eval(f\"{No_L}/{Yes_L + No_L}\"), 5)\n",
    "    print(f'Yes Probablity : {Yes_L}/{Yes_L + No_L} = {Y_L}')\n",
    "    print(f'No Probability : {No_L}/{Yes_L + No_L} = {N_L}')\n",
    "    template = 'So We Can Predict That Play Golf = {}'\n",
    "    print(template.format('Yes')) if Y_L > N_L else print(template.format('No'))\n",
    "    \n",
    "    print('\\n','-'*75,'\\n')\n",
    "    "
   ]
  },
  {
   "cell_type": "code",
   "execution_count": 9,
   "id": "fe629181",
   "metadata": {},
   "outputs": [],
   "source": [
    "def on_button_clicked(b): \n",
    "    predict(outlook.value,\n",
    "            temp.value,\n",
    "            humidity.value,\n",
    "            windy.value)"
   ]
  },
  {
   "cell_type": "code",
   "execution_count": 10,
   "id": "ed3eac49",
   "metadata": {},
   "outputs": [
    {
     "data": {
      "application/vnd.jupyter.widget-view+json": {
       "model_id": "5b459621359146bea77a44ef1cb18db2",
       "version_major": 2,
       "version_minor": 0
      },
      "text/plain": [
       "Dropdown(description='Outlook:', options=('Rainy', 'Overcast', 'Sunny'), value='Rainy')"
      ]
     },
     "metadata": {},
     "output_type": "display_data"
    },
    {
     "data": {
      "application/vnd.jupyter.widget-view+json": {
       "model_id": "368c089c497a4f94abc8e3518fecfd99",
       "version_major": 2,
       "version_minor": 0
      },
      "text/plain": [
       "Dropdown(description='Temp:', options=('Hot', 'Mild', 'Cool'), value='Hot')"
      ]
     },
     "metadata": {},
     "output_type": "display_data"
    },
    {
     "data": {
      "application/vnd.jupyter.widget-view+json": {
       "model_id": "876e423384a34016989c6f8ae7a424a6",
       "version_major": 2,
       "version_minor": 0
      },
      "text/plain": [
       "Dropdown(description='Humidity:', options=('High', 'Normal'), value='High')"
      ]
     },
     "metadata": {},
     "output_type": "display_data"
    },
    {
     "data": {
      "application/vnd.jupyter.widget-view+json": {
       "model_id": "58b2c76834c245dd891de8b07c65373e",
       "version_major": 2,
       "version_minor": 0
      },
      "text/plain": [
       "Dropdown(description='Windy:', options=(False, True), value=False)"
      ]
     },
     "metadata": {},
     "output_type": "display_data"
    },
    {
     "data": {
      "application/vnd.jupyter.widget-view+json": {
       "model_id": "3a28ebe6a244407ab6078de7fffbd9cf",
       "version_major": 2,
       "version_minor": 0
      },
      "text/plain": [
       "Button(button_style='info', description='Predict', icon='check', style=ButtonStyle(), tooltip='Click me')"
      ]
     },
     "metadata": {},
     "output_type": "display_data"
    },
    {
     "name": "stdout",
     "output_type": "stream",
     "text": [
      "Given Data :\n",
      "   Outlook Temp Humidity  Windy\n",
      "0   Rainy  Hot     High  False\n",
      "\n",
      "P(Yes|X) = P(Rainy|Yes) x P(Hot|Yes) x P(High|Yes) x P(False|Yes) x P(Yes)\n",
      "P(Yes|X) = 2/9 x 2/9 x 3/9 x 6/9 x 9/14\n",
      "P(Yes|X) = 0.00705\n",
      "\n",
      "\n",
      "\n",
      "P(No|X) = P(Rainy|No) x P(Hot|No) x P(High|No) x P(False|No) x P(No)\n",
      "P(No|X) = 3/5 x 2/5 x 4/5 x 2/5 x 5/14\n",
      "P(No|X) = 0.02743\n",
      "\n",
      "\n",
      "\n",
      "Yes Probablity : 0.00705/0.03448 = 0.20447\n",
      "No Probability : 0.02743/0.03448 = 0.79553\n",
      "So We Can Predict That Play Golf = No\n",
      "\n",
      " --------------------------------------------------------------------------- \n",
      "\n",
      "Given Data :\n",
      "   Outlook  Temp Humidity  Windy\n",
      "0   Rainy  Mild     High  False\n",
      "\n",
      "P(Yes|X) = P(Rainy|Yes) x P(Mild|Yes) x P(High|Yes) x P(False|Yes) x P(Yes)\n",
      "P(Yes|X) = 2/9 x 4/9 x 3/9 x 6/9 x 9/14\n",
      "P(Yes|X) = 0.01411\n",
      "\n",
      "\n",
      "\n",
      "P(No|X) = P(Rainy|No) x P(Mild|No) x P(High|No) x P(False|No) x P(No)\n",
      "P(No|X) = 3/5 x 2/5 x 4/5 x 2/5 x 5/14\n",
      "P(No|X) = 0.02743\n",
      "\n",
      "\n",
      "\n",
      "Yes Probablity : 0.01411/0.04154 = 0.33967\n",
      "No Probability : 0.02743/0.04154 = 0.66033\n",
      "So We Can Predict That Play Golf = No\n",
      "\n",
      " --------------------------------------------------------------------------- \n",
      "\n"
     ]
    }
   ],
   "source": [
    "import ipywidgets as widgets\n",
    "\n",
    "\n",
    "outlook = widgets.Dropdown(\n",
    "    options=['Rainy', 'Overcast', 'Sunny'],\n",
    "    description='Outlook:',\n",
    "    disabled=False,\n",
    ")\n",
    "\n",
    "temp = widgets.Dropdown(\n",
    "    options=['Hot', 'Mild', 'Cool'],\n",
    "    description='Temp:',\n",
    "    disabled=False,\n",
    ")\n",
    "\n",
    "humidity = widgets.Dropdown(\n",
    "    options=['High', 'Normal'],\n",
    "    description='Humidity:',\n",
    "    disabled=False,\n",
    ")\n",
    "\n",
    "windy = widgets.Dropdown(\n",
    "    options=[False,  True],\n",
    "    description='Windy:',\n",
    "    disabled=False,\n",
    ")\n",
    "\n",
    "button = widgets.Button(description='Predict',disabled=False,button_style='info',\n",
    "    tooltip='Click me',icon='check')\n",
    "\n",
    "display(outlook)\n",
    "display(temp)\n",
    "display(humidity)\n",
    "display(windy)\n",
    "display(button)\n",
    "button.on_click(on_button_clicked)"
   ]
  },
  {
   "cell_type": "code",
   "execution_count": null,
   "id": "a63386ec",
   "metadata": {},
   "outputs": [],
   "source": []
  },
  {
   "cell_type": "code",
   "execution_count": null,
   "id": "2562d735",
   "metadata": {},
   "outputs": [],
   "source": []
  }
 ],
 "metadata": {
  "kernelspec": {
   "display_name": "Python 3 (ipykernel)",
   "language": "python",
   "name": "python3"
  },
  "language_info": {
   "codemirror_mode": {
    "name": "ipython",
    "version": 3
   },
   "file_extension": ".py",
   "mimetype": "text/x-python",
   "name": "python",
   "nbconvert_exporter": "python",
   "pygments_lexer": "ipython3",
   "version": "3.10.4"
  }
 },
 "nbformat": 4,
 "nbformat_minor": 5
}
