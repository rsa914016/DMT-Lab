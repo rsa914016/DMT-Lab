{
 "cells": [
  {
   "cell_type": "code",
   "execution_count": 15,
   "id": "e7c17794",
   "metadata": {},
   "outputs": [],
   "source": [
    "import nltk\n",
    "from nltk.corpus import stopwords\n",
    "import numpy as np\n",
    "from nltk.cluster.util import cosine_distance\n",
    "import re\n",
    "import networkx as nx\n",
    "import spacy\n",
    "nlp = spacy.load('en_core_web_sm')"
   ]
  },
  {
   "cell_type": "code",
   "execution_count": 35,
   "id": "6fb91f17",
   "metadata": {},
   "outputs": [],
   "source": [
    "def read_article(file_name):\n",
    "    file = open(file_name,'r')\n",
    "    file_data = file.read()\n",
    "    file_doc = nlp(file_data)\n",
    "    sentences = list(file_doc.sents)\n",
    "    return [re.sub(r'[^a-zA-z\\s]', '', str(sent)).strip() for sent in sentences]"
   ]
  },
  {
   "cell_type": "code",
   "execution_count": 46,
   "id": "341cf80c",
   "metadata": {},
   "outputs": [
    {
     "data": {
      "text/plain": [
       "['The United States of America USA or USA commonly known as the United States US or US or America is a country primarily located in North America',\n",
       " 'It consists of  states a federal district five major unincorporated territories  Indian reservations and some minor possessions[j]',\n",
       " 'At  million square miles  million square kilometers it is the worlds third or fourthlargest country by total area[d]',\n",
       " 'The United States shares significant land borders with Canada to the north and Mexico to the south as well as limited maritime borders with the Bahamas Cuba and Russia[] With a population of more than  million people it is the third most populous country in the world',\n",
       " 'The national capital is Washington DC and the most populous city is New York']"
      ]
     },
     "execution_count": 46,
     "metadata": {},
     "output_type": "execute_result"
    }
   ],
   "source": [
    "lst = read_article('../All Data_Files/wiki_us.txt')\n",
    "lst[:5]"
   ]
  },
  {
   "cell_type": "code",
   "execution_count": 37,
   "id": "cb7fdab6",
   "metadata": {},
   "outputs": [],
   "source": [
    "def sentence_similarity(sent1,sent2,stopwords=None):\n",
    "    \n",
    "    if stopwords is None:\n",
    "        stopwords = []\n",
    "        \n",
    "    sent1 = [w.lower() for w in sent1]\n",
    "    sent2 = [w.lower() for w in sent2]\n",
    "    all_words = list(set(sent1+sent2))\n",
    "    vector1 = [0] * len(all_words)\n",
    "    vector2 = [0] * len(all_words)\n",
    "    \n",
    "    for w in sent1:\n",
    "        if w in stopwords:\n",
    "            continue\n",
    "        vector1[all_words.index(w)] += 1\n",
    "        \n",
    "    for w in sent2:\n",
    "        if w in stopwords:\n",
    "            continue\n",
    "        vector2[all_words.index(w)] += 1\n",
    "    return 1 - cosine_distance(vector1, vector2)"
   ]
  },
  {
   "cell_type": "code",
   "execution_count": 24,
   "id": "6e1a5741",
   "metadata": {},
   "outputs": [],
   "source": [
    "def similarity_matrix(sentences, stopwords):\n",
    "    N = len(sentences)\n",
    "    similarity_matrix = np.zeros((N, N))\n",
    "    for i in range(N):\n",
    "        for j in range(N):\n",
    "            if i == j:\n",
    "                continue\n",
    "            similarity_matrix[i,j] = sentence_similarity(\n",
    "                                        sentences[i],sentences[j],stopwords)\n",
    "    return similarity_matrix"
   ]
  },
  {
   "cell_type": "code",
   "execution_count": 38,
   "id": "c566c12a",
   "metadata": {},
   "outputs": [],
   "source": [
    "def get_summary(file_name,top_n=5):\n",
    "    \n",
    "    stop_words = stopwords.words('english')\n",
    "    summarize_text = []\n",
    "    \n",
    "    sentences = read_article(file_name)\n",
    "    sent_sim_mat = similarity_matrix(sentences, stop_words)\n",
    "    sent_sim_graph = nx.from_numpy_array(sent_sim_mat)\n",
    "    scores = nx.pagerank(sent_sim_graph)\n",
    "    ranked_sentences = sorted(((scores[i],s) for i,s in enumerate(sentences)),reverse=True)\n",
    "    \n",
    "    for i in range(top_n):\n",
    "        summarize_text.append(''.join(ranked_sentences[i][1]))\n",
    "    print('Summary: \\n','. '.join(summarize_text),sep='')"
   ]
  },
  {
   "cell_type": "code",
   "execution_count": 42,
   "id": "9330fa6e",
   "metadata": {},
   "outputs": [
    {
     "name": "stdout",
     "output_type": "stream",
     "text": [
      "Summary: \n",
      "The country ranks high in international measures of economic freedom quality of life education and human rights and has low levels of perceived corruption. During the Cold War the United States fought the Korean War and the Vietnam War but avoided direct military conflict with the Soviet Union. Slavery was legal in the southern United States until the second half of the th century when the American Civil War led to its abolition. The United States is a highly developed country accounts for approximately a quarter of global GDP and is the worlds largest economy. PaleoIndians migrated from Siberia to the North American mainland at least  years ago and European colonization began in the th century. In the late th century the US began expanding across North America gradually obtaining new territories sometimes through war frequently displacing Native Americans and admitting new states by  the United States spanned the continent. The Soviet Unions dissolution in  ended the Cold War leaving the United States as the worlds sole superpower\n"
     ]
    }
   ],
   "source": [
    "get_summary('../All Data_Files/wiki_us.txt',7)"
   ]
  },
  {
   "cell_type": "code",
   "execution_count": null,
   "id": "06f5c3d7",
   "metadata": {},
   "outputs": [],
   "source": []
  }
 ],
 "metadata": {
  "kernelspec": {
   "display_name": "Python 3 (ipykernel)",
   "language": "python",
   "name": "python3"
  },
  "language_info": {
   "codemirror_mode": {
    "name": "ipython",
    "version": 3
   },
   "file_extension": ".py",
   "mimetype": "text/x-python",
   "name": "python",
   "nbconvert_exporter": "python",
   "pygments_lexer": "ipython3",
   "version": "3.10.4"
  }
 },
 "nbformat": 4,
 "nbformat_minor": 5
}
