{
 "cells": [
  {
   "cell_type": "markdown",
   "id": "803f0368",
   "metadata": {},
   "source": [
    "### Expression Evalution"
   ]
  },
  {
   "cell_type": "code",
   "execution_count": 1,
   "id": "b6982a5f",
   "metadata": {},
   "outputs": [
    {
     "name": "stdout",
     "output_type": "stream",
     "text": [
      "1\n"
     ]
    }
   ],
   "source": [
    "x = int(input())"
   ]
  },
  {
   "cell_type": "code",
   "execution_count": 2,
   "id": "ad6e7c79",
   "metadata": {},
   "outputs": [
    {
     "name": "stdout",
     "output_type": "stream",
     "text": [
      "598 ns ± 7.18 ns per loop (mean ± std. dev. of 7 runs, 1,000,000 loops each)\n"
     ]
    }
   ],
   "source": [
    "%%timeit\n",
    "expr = 5*x**4 +12*x**3 + 4*x**2 + 6*x + 7"
   ]
  },
  {
   "cell_type": "code",
   "execution_count": 26,
   "id": "5f33ab59",
   "metadata": {},
   "outputs": [
    {
     "name": "stdout",
     "output_type": "stream",
     "text": [
      "15.3 µs ± 452 ns per loop (mean ± std. dev. of 7 runs, 100,000 loops each)\n"
     ]
    }
   ],
   "source": [
    "%%timeit\n",
    "expr = 5*pow(x,4) +12*pow(x,3) + 4*pow(x,2) + 6*x + 7"
   ]
  },
  {
   "cell_type": "code",
   "execution_count": 3,
   "id": "eeec0f98",
   "metadata": {},
   "outputs": [
    {
     "name": "stdout",
     "output_type": "stream",
     "text": [
      "105 ns ± 1.86 ns per loop (mean ± std. dev. of 7 runs, 10,000,000 loops each)\n"
     ]
    }
   ],
   "source": [
    "%%timeit\n",
    "expr = 7 + x*(x*(x*(5*x+12)+4)+6)"
   ]
  },
  {
   "cell_type": "code",
   "execution_count": 4,
   "id": "e6a7d3bd",
   "metadata": {},
   "outputs": [],
   "source": [
    "import sympy as sp\n",
    "from sympy.abc import x"
   ]
  },
  {
   "cell_type": "code",
   "execution_count": 13,
   "id": "463a0b8a",
   "metadata": {},
   "outputs": [
    {
     "data": {
      "text/latex": [
       "$\\displaystyle 5 x^{4} + 12 x^{3} + 4 x^{2} + 6 x + 7$"
      ],
      "text/plain": [
       "5*x**4 + 12*x**3 + 4*x**2 + 6*x + 7"
      ]
     },
     "execution_count": 13,
     "metadata": {},
     "output_type": "execute_result"
    }
   ],
   "source": [
    "expr = 5*x**4 +12*x**3 + 4*x**2 + 6*x + 7\n",
    "expr"
   ]
  },
  {
   "cell_type": "code",
   "execution_count": 25,
   "id": "d1479a23",
   "metadata": {
    "scrolled": true
   },
   "outputs": [
    {
     "data": {
      "text/latex": [
       "$\\displaystyle 34$"
      ],
      "text/plain": [
       "34"
      ]
     },
     "execution_count": 25,
     "metadata": {},
     "output_type": "execute_result"
    }
   ],
   "source": [
    "expr.subs(x,1)"
   ]
  },
  {
   "cell_type": "code",
   "execution_count": null,
   "id": "b123077a",
   "metadata": {},
   "outputs": [],
   "source": []
  },
  {
   "cell_type": "markdown",
   "id": "5e47296e",
   "metadata": {},
   "source": [
    "### Cache Usage"
   ]
  },
  {
   "cell_type": "code",
   "execution_count": 5,
   "id": "3c5a8cc5",
   "metadata": {},
   "outputs": [],
   "source": [
    "from functools import lru_cache\n",
    "\n",
    "@lru_cache\n",
    "def fib(n):\n",
    "    if n < 2:\n",
    "        return n\n",
    "    else:\n",
    "        return fib(n-1) + fib(n-2)"
   ]
  },
  {
   "cell_type": "code",
   "execution_count": 6,
   "id": "7164320f",
   "metadata": {},
   "outputs": [
    {
     "name": "stdout",
     "output_type": "stream",
     "text": [
      "CPU times: total: 0 ns\n",
      "Wall time: 0 ns\n"
     ]
    },
    {
     "data": {
      "text/plain": [
       "55"
      ]
     },
     "execution_count": 6,
     "metadata": {},
     "output_type": "execute_result"
    }
   ],
   "source": [
    "%%time\n",
    "fib(10)"
   ]
  },
  {
   "cell_type": "code",
   "execution_count": null,
   "id": "15b7c1f1",
   "metadata": {},
   "outputs": [],
   "source": []
  },
  {
   "cell_type": "markdown",
   "id": "59a17c75",
   "metadata": {},
   "source": [
    "### Data Generation"
   ]
  },
  {
   "cell_type": "code",
   "execution_count": 7,
   "id": "a7eda776",
   "metadata": {},
   "outputs": [],
   "source": [
    "import pandas as pd"
   ]
  },
  {
   "cell_type": "code",
   "execution_count": 8,
   "id": "9552b369",
   "metadata": {},
   "outputs": [],
   "source": [
    "df = pd.read_csv(r\"C:\\Jntuk Works\\MySql Programs\\Csv Files Used\\Student Details.csv\")"
   ]
  },
  {
   "cell_type": "code",
   "execution_count": 9,
   "id": "6217efee",
   "metadata": {},
   "outputs": [
    {
     "data": {
      "text/html": [
       "<div>\n",
       "<style scoped>\n",
       "    .dataframe tbody tr th:only-of-type {\n",
       "        vertical-align: middle;\n",
       "    }\n",
       "\n",
       "    .dataframe tbody tr th {\n",
       "        vertical-align: top;\n",
       "    }\n",
       "\n",
       "    .dataframe thead th {\n",
       "        text-align: right;\n",
       "    }\n",
       "</style>\n",
       "<table border=\"1\" class=\"dataframe\">\n",
       "  <thead>\n",
       "    <tr style=\"text-align: right;\">\n",
       "      <th></th>\n",
       "      <th>roll</th>\n",
       "      <th>name</th>\n",
       "      <th>gen</th>\n",
       "      <th>Aadhar No</th>\n",
       "      <th>dob</th>\n",
       "      <th>xxx</th>\n",
       "      <th>ph</th>\n",
       "    </tr>\n",
       "  </thead>\n",
       "  <tbody>\n",
       "    <tr>\n",
       "      <th>0</th>\n",
       "      <td>20021A0501</td>\n",
       "      <td>ANUMALISETTI MOKSHA SREE</td>\n",
       "      <td>FEMALE</td>\n",
       "      <td>7.565584e+11</td>\n",
       "      <td>08-06-2003</td>\n",
       "      <td>mokhasree@gmail.com</td>\n",
       "      <td>7702251684</td>\n",
       "    </tr>\n",
       "    <tr>\n",
       "      <th>1</th>\n",
       "      <td>20021A0502</td>\n",
       "      <td>BODDEPALLI LAVANYA</td>\n",
       "      <td>FEMALE</td>\n",
       "      <td>2.945021e+11</td>\n",
       "      <td>07-02-2003</td>\n",
       "      <td>lavanyaboddepalli723@gmail.com</td>\n",
       "      <td>9182238630</td>\n",
       "    </tr>\n",
       "    <tr>\n",
       "      <th>2</th>\n",
       "      <td>20021A0503</td>\n",
       "      <td>CHANDU LALITHA HARINI</td>\n",
       "      <td>FEMALE</td>\n",
       "      <td>8.937309e+11</td>\n",
       "      <td>21-10-2002</td>\n",
       "      <td>chanduharini02@gmail.com</td>\n",
       "      <td>9381316171</td>\n",
       "    </tr>\n",
       "    <tr>\n",
       "      <th>3</th>\n",
       "      <td>20021A0504</td>\n",
       "      <td>DALIA BHANU JINAGAM</td>\n",
       "      <td>FEMALE</td>\n",
       "      <td>8.541082e+11</td>\n",
       "      <td>23-12-2002</td>\n",
       "      <td>jinagamdaliabhanu@gmail.com</td>\n",
       "      <td>6302363417</td>\n",
       "    </tr>\n",
       "    <tr>\n",
       "      <th>4</th>\n",
       "      <td>20021A0505</td>\n",
       "      <td>GADE SRUJANA GAYATHRI</td>\n",
       "      <td>FEMALE</td>\n",
       "      <td>2.907998e+11</td>\n",
       "      <td>04-04-2003</td>\n",
       "      <td>srujanagayathrigade2003@gmail.com</td>\n",
       "      <td>9502065444</td>\n",
       "    </tr>\n",
       "  </tbody>\n",
       "</table>\n",
       "</div>"
      ],
      "text/plain": [
       "         roll                      name     gen     Aadhar No         dob  \\\n",
       "0  20021A0501  ANUMALISETTI MOKSHA SREE  FEMALE  7.565584e+11  08-06-2003   \n",
       "1  20021A0502       BODDEPALLI LAVANYA   FEMALE  2.945021e+11  07-02-2003   \n",
       "2  20021A0503     CHANDU LALITHA HARINI  FEMALE  8.937309e+11  21-10-2002   \n",
       "3  20021A0504      DALIA BHANU JINAGAM   FEMALE  8.541082e+11  23-12-2002   \n",
       "4  20021A0505     GADE SRUJANA GAYATHRI  FEMALE  2.907998e+11  04-04-2003   \n",
       "\n",
       "                                 xxx          ph  \n",
       "0                mokhasree@gmail.com  7702251684  \n",
       "1     lavanyaboddepalli723@gmail.com  9182238630  \n",
       "2           chanduharini02@gmail.com  9381316171  \n",
       "3       jinagamdaliabhanu@gmail.com   6302363417  \n",
       "4  srujanagayathrigade2003@gmail.com  9502065444  "
      ]
     },
     "execution_count": 9,
     "metadata": {},
     "output_type": "execute_result"
    }
   ],
   "source": [
    "df.head()"
   ]
  },
  {
   "cell_type": "code",
   "execution_count": 10,
   "id": "3e034934",
   "metadata": {},
   "outputs": [],
   "source": [
    "lst = []\n",
    "for index,row in df.iterrows():\n",
    "    dic = {'Roll_No': row['roll'],\n",
    "     'Student_Name': row['name'].upper(),\n",
    "     'Birth_Date':row['dob']}\n",
    "    lst.append(dic)"
   ]
  },
  {
   "cell_type": "code",
   "execution_count": 27,
   "id": "5c0ec32c",
   "metadata": {
    "scrolled": false
   },
   "outputs": [
    {
     "name": "stdout",
     "output_type": "stream",
     "text": [
      "[{'Birth_Date': '08-06-2003',\n",
      "  'Roll_No': '20021A0501',\n",
      "  'Student_Name': 'ANUMALISETTI MOKSHA SREE'},\n",
      " {'Birth_Date': '07-02-2003',\n",
      "  'Roll_No': '20021A0502',\n",
      "  'Student_Name': 'BODDEPALLI LAVANYA '}]\n"
     ]
    }
   ],
   "source": [
    "from pprint import pprint\n",
    "pprint(lst[:2])"
   ]
  },
  {
   "cell_type": "code",
   "execution_count": null,
   "id": "c2410994",
   "metadata": {},
   "outputs": [],
   "source": []
  },
  {
   "cell_type": "markdown",
   "id": "0a0b5b28",
   "metadata": {},
   "source": [
    "### Counting Vowels Using Dictionaries"
   ]
  },
  {
   "cell_type": "code",
   "execution_count": 2,
   "id": "c6a50d35",
   "metadata": {},
   "outputs": [
    {
     "name": "stdout",
     "output_type": "stream",
     "text": [
      "Enter a string :ajay\n",
      "{'a': 2, 'j': 1, 'y': 1}\n",
      "No.of Letters : 4\n",
      "No.of Vowels  : 2\n",
      "Perc of vowels: 50.0\n"
     ]
    }
   ],
   "source": [
    "word = input('Enter a string :')\n",
    "letters = len(word)\n",
    "vowels = 0\n",
    "di = {}\n",
    "for i in word:\n",
    "    if i in di:\n",
    "        di[i] += 1\n",
    "    else:\n",
    "        di[i] = 1\n",
    "print(di)\n",
    "for i in di:\n",
    "    if i in 'aeiou':\n",
    "        vowels += di[i]\n",
    "print('No.of Letters :',letters)\n",
    "print('No.of Vowels  :',vowels)\n",
    "print('Perc of vowels:',(vowels/letters)*100)"
   ]
  },
  {
   "cell_type": "code",
   "execution_count": null,
   "id": "7fa67ebf",
   "metadata": {},
   "outputs": [],
   "source": []
  },
  {
   "cell_type": "markdown",
   "id": "57b28533",
   "metadata": {},
   "source": [
    "### Finding Winner"
   ]
  },
  {
   "cell_type": "code",
   "execution_count": 1,
   "id": "3971dc8b",
   "metadata": {},
   "outputs": [],
   "source": [
    "from collections import Counter, defaultdict\n",
    "\n",
    "votes = ['Kenny', 'Amanda', 'John' ,'Vicky', 'Alex',\n",
    "         'Amanda', 'John', 'Alex','Kenny', 'Vicky',\n",
    "         'Charles', 'Alex', 'Kenny', 'Eric','Charles',\n",
    "         'Eric', 'Laura', 'Michelle', 'Eric', 'Vicky']\n",
    "\n",
    "\n",
    "ages = {\n",
    "    'Alex':79,\n",
    "    'Kenny':61,\n",
    "    'Amanda':54,\n",
    "    'John':80,\n",
    "    'Vicky':34,\n",
    "    'Eric':50,\n",
    "    'Laura':55,\n",
    "    'Michelle':42,\n",
    "    'Charles':70\n",
    "}"
   ]
  },
  {
   "cell_type": "code",
   "execution_count": 2,
   "id": "06dbb0e5",
   "metadata": {},
   "outputs": [
    {
     "data": {
      "text/plain": [
       "Counter({'Kenny': 3,\n",
       "         'Amanda': 2,\n",
       "         'John': 2,\n",
       "         'Vicky': 3,\n",
       "         'Alex': 3,\n",
       "         'Charles': 2,\n",
       "         'Eric': 3,\n",
       "         'Laura': 1,\n",
       "         'Michelle': 1})"
      ]
     },
     "execution_count": 2,
     "metadata": {},
     "output_type": "execute_result"
    }
   ],
   "source": [
    "name_count = Counter(votes)\n",
    "name_count"
   ]
  },
  {
   "cell_type": "code",
   "execution_count": 3,
   "id": "05d30a7f",
   "metadata": {},
   "outputs": [
    {
     "data": {
      "text/plain": [
       "{'Kenny': 3, 'Vicky': 3, 'Alex': 3, 'Eric': 3}"
      ]
     },
     "execution_count": 3,
     "metadata": {},
     "output_type": "execute_result"
    }
   ],
   "source": [
    "top_votes = max(name_count.values())\n",
    "top_scores = {k:v for k,v in name_count.items() if v == top_votes}\n",
    "top_scores"
   ]
  },
  {
   "cell_type": "code",
   "execution_count": 4,
   "id": "c87d0fbd",
   "metadata": {},
   "outputs": [
    {
     "data": {
      "text/plain": [
       "'Alex'"
      ]
     },
     "execution_count": 4,
     "metadata": {},
     "output_type": "execute_result"
    }
   ],
   "source": [
    "winner = max(top_scores.keys(), key=lambda x:ages[x])\n",
    "winner"
   ]
  },
  {
   "cell_type": "code",
   "execution_count": 17,
   "id": "927e4740",
   "metadata": {},
   "outputs": [],
   "source": [
    "import timeit \n",
    "\n",
    "\n",
    "setup = '''\n",
    "from collections import Counter, defaultdict\n",
    "\n",
    "votes = ['Kenny', 'Amanda', 'John' ,'Vicky', 'Alex',\n",
    "         'Amanda', 'John', 'Alex','Kenny', 'Vicky',\n",
    "         'Charles', 'Alex', 'Kenny', 'Eric','Charles',\n",
    "         'Eric', 'Laura', 'Michelle', 'Eric', 'Vicky']\n",
    "\n",
    "ages = {'Alex':79, 'Kenny':61, 'Amanda':54, 'John':80,\n",
    "        'Vicky':34, 'Eric':50, 'Laura':55, 'Michelle':42,\n",
    "        'Charles':70}\n",
    "'''\n",
    "  \n",
    "stmt_one = ''' \n",
    "name_count = Counter(votes)\n",
    "top_votes = max(name_count.values())\n",
    "top_scores = {k:v for k,v in name_count.items() if v == top_votes}\n",
    "winner = max(top_scores.keys(), key=lambda x:ages[x])\n",
    "'''\n",
    "\n",
    "\n",
    "stmt_two = '''\n",
    "f={}\n",
    "g=Counter (votes)\n",
    "gm=max(g.values())\n",
    "for i in g:\n",
    "    if g[i]==gm:\n",
    "        f[i]=ages[i]\n",
    "fm=max(f.values())\n",
    "for i in f:\n",
    "    if f[i]==fm:\n",
    "        continue\n",
    "'''\n",
    "\n",
    "\n",
    "stmt_three = '''\n",
    "name_count = Counter(votes)\n",
    "count_names = defaultdict(list)\n",
    "for name,count in name_count.items():\n",
    "    count_names[count].append(name)\n",
    "count,canditates = max(count_names.items())\n",
    "winner = max(canditates,key=lambda x:ages[x])\n",
    "'''"
   ]
  },
  {
   "cell_type": "code",
   "execution_count": 52,
   "id": "b1cd457b",
   "metadata": {},
   "outputs": [
    {
     "data": {
      "text/plain": [
       "0.04922919999808073"
      ]
     },
     "execution_count": 52,
     "metadata": {},
     "output_type": "execute_result"
    }
   ],
   "source": [
    "timeit.timeit(setup = setup, \n",
    "                    stmt = stmt_one,\n",
    "                    number = 10000)"
   ]
  },
  {
   "cell_type": "code",
   "execution_count": 53,
   "id": "b27f28a0",
   "metadata": {},
   "outputs": [
    {
     "data": {
      "text/plain": [
       "0.04489700001431629"
      ]
     },
     "execution_count": 53,
     "metadata": {},
     "output_type": "execute_result"
    }
   ],
   "source": [
    "timeit.timeit(setup = setup, \n",
    "                    stmt = stmt_two,\n",
    "                    number = 10000)"
   ]
  },
  {
   "cell_type": "code",
   "execution_count": 54,
   "id": "01394fd0",
   "metadata": {},
   "outputs": [
    {
     "data": {
      "text/plain": [
       "0.05191890004789457"
      ]
     },
     "execution_count": 54,
     "metadata": {},
     "output_type": "execute_result"
    }
   ],
   "source": [
    "timeit.timeit(setup = setup, \n",
    "                    stmt = stmt_three,\n",
    "                    number = 10000)"
   ]
  },
  {
   "cell_type": "markdown",
   "id": "8a79f685",
   "metadata": {},
   "source": [
    "### Quick Sort"
   ]
  },
  {
   "cell_type": "code",
   "execution_count": 14,
   "id": "cccba20e",
   "metadata": {},
   "outputs": [],
   "source": [
    "def partition(arr, l, h):\n",
    "    i = l - 1\n",
    "    x = arr[h]\n",
    "\n",
    "    for j in range(l, h):\n",
    "        if arr[j] <= x:\n",
    "            i = i + 1\n",
    "            arr[i], arr[j] = arr[j], arr[i]\n",
    "\n",
    "    arr[i + 1], arr[h] = arr[h], arr[i + 1]\n",
    "    return i + 1"
   ]
  },
  {
   "cell_type": "code",
   "execution_count": 15,
   "id": "77de0c61",
   "metadata": {},
   "outputs": [],
   "source": [
    "from collections import deque\n",
    "\n",
    "def quickSort(arr, l, h):\n",
    "\n",
    "    stack = deque()\n",
    "    stack.append(l)\n",
    "    stack.append(h)\n",
    "    print(stack)\n",
    "\n",
    "    while len(stack) > 0:\n",
    "        h = stack.pop()\n",
    "        l = stack.pop()\n",
    "        pos = partition(arr, l, h)\n",
    "\n",
    "        if pos-1 > l:\n",
    "            stack.append(l)\n",
    "            stack.append(pos-1)\n",
    "\n",
    "        if pos + 1 < h:\n",
    "            stack.append(pos+1)\n",
    "            stack.append(h)"
   ]
  },
  {
   "cell_type": "code",
   "execution_count": 16,
   "id": "a5360b27",
   "metadata": {},
   "outputs": [
    {
     "name": "stdout",
     "output_type": "stream",
     "text": [
      "deque([0, 7])\n",
      "Sorted array is : 1 2 2 3 3 3 4 5\n"
     ]
    }
   ],
   "source": [
    "lst = [4, 3, 5, 2, 1, 3, 2, 3]\n",
    "n = len(lst)\n",
    "quickSort(lst, 0, n-1)\n",
    "print (\"Sorted array is :\",*lst)"
   ]
  },
  {
   "cell_type": "code",
   "execution_count": null,
   "id": "052e2e7a",
   "metadata": {},
   "outputs": [],
   "source": []
  },
  {
   "cell_type": "markdown",
   "id": "2c6439c7",
   "metadata": {},
   "source": [
    "### Mid-II"
   ]
  },
  {
   "cell_type": "code",
   "execution_count": 1,
   "id": "b133f632",
   "metadata": {},
   "outputs": [
    {
     "name": "stdout",
     "output_type": "stream",
     "text": [
      "1. Area of Circle\n",
      "2. Area of Triangle\n",
      "3. Area of Rectangle\n",
      "4. Area of Square\n",
      "5. Area of Pyramid\n",
      "Enter Your Choice : 2\n",
      "Enter Base of Triangle : 2\n",
      "Enter Height of Triangle : 2\n",
      "Area of Traingle is 2.0\n"
     ]
    }
   ],
   "source": [
    "def areaOfCircle(r):\n",
    "    print(f'Area of Circle is {3.14 * r * r}')\n",
    "def areaOfTraingle(b, h):\n",
    "    print(f'Area of Traingle is {0.5 * b * h}')\n",
    "def areaOfRectangle(l, h):\n",
    "    print(f'Area of Rectangle is {2 * l * h}')\n",
    "def areaOfSquare(s):\n",
    "    print(f'Area of Square is {s * s}')\n",
    "def areaOfPyramid(bp, ba):\n",
    "    print(f'Area of Pyramid is {0.5 * bp + ba }')\n",
    "\n",
    "\n",
    "print('1. Area of Circle')\n",
    "print('2. Area of Triangle')\n",
    "print('3. Area of Rectangle')\n",
    "print('4. Area of Square')\n",
    "print('5. Area of Pyramid')\n",
    "\n",
    "choice = int(input('Enter Your Choice : '))\n",
    "if choice == 1:\n",
    "    radius = int(input('Enter Radius of Circle : '))\n",
    "    areaOfCircle(radius)\n",
    "elif choice == 2:\n",
    "    base = int(input('Enter Base of Triangle : '))\n",
    "    height = int(input('Enter Height of Triangle : '))\n",
    "    areaOfTraingle(base, height)\n",
    "elif choice == 3:\n",
    "    length = int(input('Enter Height of Rectangle : '))\n",
    "    height = int(input('Enter Breadth of Rectangle : '))\n",
    "    areaOfRectangle(length, height)\n",
    "elif choice == 4:\n",
    "    side = int(input('Enter Side of Square :'))\n",
    "    areaOfSquare(side)\n",
    "elif choice == 5:\n",
    "    bperimeter = int(input('Enter Base Perimeter of Pyramid :'))\n",
    "    barea = int(input('Enter Base Area of Pyramid :'))\n",
    "    areaOfPyramid(bperimeter, barea)\n",
    "else:\n",
    "    print('Choose from 1 - 5')"
   ]
  },
  {
   "cell_type": "code",
   "execution_count": 2,
   "id": "15392dd1",
   "metadata": {},
   "outputs": [
    {
     "name": "stdout",
     "output_type": "stream",
     "text": [
      "Enter Text File : Sample File.txt\n",
      "Converted SucessFully\n"
     ]
    }
   ],
   "source": [
    "txtfile = input('Enter Text File : ')\n",
    "f = open(txtfile, 'r')\n",
    "text = f.read()\n",
    "f.close()\n",
    "modified_text = text.upper()\n",
    "f = open(txtfile, 'w')\n",
    "f.write(modified_text)\n",
    "f.close()\n",
    "print('Converted SucessFully')"
   ]
  },
  {
   "cell_type": "code",
   "execution_count": 9,
   "id": "950dfe6d",
   "metadata": {},
   "outputs": [
    {
     "name": "stdout",
     "output_type": "stream",
     "text": [
      "Parent Class Constructor\n",
      "I can invoked by super() function\n",
      "I can accesesed by super() function\n"
     ]
    }
   ],
   "source": [
    "class Parent:\n",
    "    variable = 'I can accesesed by super() function'\n",
    "    def __init__(self):\n",
    "        print('Parent Class Constructor')\n",
    "    def method(self):\n",
    "        print('I can invoked by super() function')\n",
    "\n",
    "        \n",
    "class Child(Parent):\n",
    "    def show(self):\n",
    "        super().method()\n",
    "        print(super().variable)\n",
    "\n",
    "\n",
    "c = Child()\n",
    "c.show()"
   ]
  },
  {
   "cell_type": "code",
   "execution_count": 12,
   "id": "2d33e5e6",
   "metadata": {},
   "outputs": [
    {
     "name": "stdout",
     "output_type": "stream",
     "text": [
      "Enter a Divisor : 0\n",
      "Cant Divide With 0(Zero)\n",
      "I Get Executed Every Time\n"
     ]
    }
   ],
   "source": [
    "num = int(input('Enter a Divisor : '))\n",
    "try:\n",
    "    5 / num\n",
    "except ZeroDivisionError:\n",
    "    print('Cant Divide With 0(Zero)')\n",
    "else:\n",
    "    print('No Error Occured')\n",
    "finally:\n",
    "    print('I Get Executed Every Time')"
   ]
  },
  {
   "cell_type": "code",
   "execution_count": 29,
   "id": "a06c312e",
   "metadata": {},
   "outputs": [],
   "source": [
    "from tkinter import *\n",
    "\n",
    "root = Tk()\n",
    "root.geometry('200x100')\n",
    "label = Label(text='Hello World',font=('Helvetica', 20, 'bold'))\n",
    "label.place(x=25,y=30)\n",
    "root.mainloop()"
   ]
  },
  {
   "cell_type": "code",
   "execution_count": null,
   "id": "322969ee",
   "metadata": {},
   "outputs": [],
   "source": []
  },
  {
   "cell_type": "code",
   "execution_count": 1,
   "id": "720079bb",
   "metadata": {},
   "outputs": [],
   "source": [
    "import numpy as np\n",
    "import matplotlib.pyplot as plt"
   ]
  },
  {
   "cell_type": "code",
   "execution_count": 2,
   "id": "27b354b0",
   "metadata": {},
   "outputs": [
    {
     "data": {
      "text/plain": [
       "Text(0.5, 1.0, 'Students enrolled in different courses')"
      ]
     },
     "execution_count": 2,
     "metadata": {},
     "output_type": "execute_result"
    },
    {
     "data": {
      "image/png": "[encoded data removed]",
      "text/plain": [
       "<Figure size 432x288 with 1 Axes>"
      ]
     },
     "metadata": {
      "needs_background": "light"
     },
     "output_type": "display_data"
    }
   ],
   "source": [
    "data = {'C':20, 'C++':15, 'Java':30,'Python':35}\n",
    "courses = list(data.keys())\n",
    "values = list(data.values())\n",
    "\n",
    "plt.bar(courses,values)\n",
    "plt.xlabel(\"Courses offered\")\n",
    "plt.ylabel(\"No. of students enrolled\")\n",
    "plt.title(\"Students enrolled in different courses\")"
   ]
  },
  {
   "cell_type": "code",
   "execution_count": 7,
   "id": "ee06b5b4",
   "metadata": {},
   "outputs": [
    {
     "data": {
      "text/plain": [
       "Text(0.5, 1.0, 'Students enrolled in different courses')"
      ]
     },
     "execution_count": 7,
     "metadata": {},
     "output_type": "execute_result"
    },
    {
     "data": {
      "image/png": "[encoded data removed]",
      "text/plain": [
       "<Figure size 432x288 with 1 Axes>"
      ]
     },
     "metadata": {},
     "output_type": "display_data"
    }
   ],
   "source": [
    "data = {'C':20, 'C++':15, 'Java':30,'Python':35}\n",
    "labels = list(data.keys())\n",
    "slices = list(data.values())\n",
    "explode = [0, 0, 0, 0.08]\n",
    "plt.pie(slices, labels=labels, explode=explode, shadow=True,\n",
    "        startangle=90, autopct='%1.1f%%', wedgeprops={'edgecolor': 'black'})\n",
    "plt.title(\"Students enrolled in different courses\")"
   ]
  },
  {
   "cell_type": "code",
   "execution_count": 10,
   "id": "0bcf74e9",
   "metadata": {},
   "outputs": [
    {
     "data": {
      "text/plain": [
       "Text(0.5, 1.0, 'Sample Histogram')"
      ]
     },
     "execution_count": 10,
     "metadata": {},
     "output_type": "execute_result"
    },
    {
     "data": {
      "image/png": "[encoded data removed]",
      "text/plain": [
       "<Figure size 432x288 with 1 Axes>"
      ]
     },
     "metadata": {
      "needs_background": "light"
     },
     "output_type": "display_data"
    }
   ],
   "source": [
    "data =  np.random.normal(170, 10, 250)\n",
    "plt.hist(data)\n",
    "plt.title(\"Sample Histogram\")"
   ]
  },
  {
   "cell_type": "code",
   "execution_count": 27,
   "id": "e92e0836",
   "metadata": {},
   "outputs": [
    {
     "data": {
      "text/plain": [
       "Text(0.5, 1.0, 'Scatter Plot')"
      ]
     },
     "execution_count": 27,
     "metadata": {},
     "output_type": "execute_result"
    },
    {
     "data": {
      "image/png": "[encoded data removed]",
      "text/plain": [
       "<Figure size 432x288 with 1 Axes>"
      ]
     },
     "metadata": {
      "needs_background": "light"
     },
     "output_type": "display_data"
    }
   ],
   "source": [
    "x = np.random.randint(1,100,size=(100,))\n",
    "y = np.random.randint(1,100,size=(100,))\n",
    "labels = np.random.randint(0,2,size=(100,))\n",
    "                           \n",
    "plt.scatter(x,y,c=labels)\n",
    "plt.xlabel(\"X Values\")\n",
    "plt.ylabel(\"Y Values\")\n",
    "plt.title(\"Scatter Plot\")"
   ]
  },
  {
   "cell_type": "code",
   "execution_count": null,
   "id": "defe0a67",
   "metadata": {},
   "outputs": [],
   "source": []
  },
  {
   "cell_type": "code",
   "execution_count": 37,
   "id": "49d2ec9e",
   "metadata": {},
   "outputs": [
    {
     "data": {
      "text/html": [
       "<h1><center>CHI-SQARE FORMULA</center></h1>\n",
       "<br>\n",
       "<center><img src='https://lh4.googleusercontent.com/T23mE6ZOaj1hLiB9-sLsHCxD2awZln2muHxYQHiqld75f6cAN9-I9PFMrm1Zy4h-XWY8xuYsrYu_1WLukLk_6yR8ncDC9xNR1moDGxtqohVcY43oui1RBbKLkdwkFqMGE9YOUDJ7'>\n",
       "</center>\n"
      ],
      "text/plain": [
       "<IPython.core.display.HTML object>"
      ]
     },
     "metadata": {},
     "output_type": "display_data"
    }
   ],
   "source": [
    "%%html\n",
    "<h1><center>CHI-SQARE FORMULA</center></h1>\n",
    "<br>\n",
    "<center><img src='https://lh4.googleusercontent.com/T23mE6ZOaj1hLiB9-sLsHCxD2awZln2muHxYQHiqld75f6cAN9-I9PFMrm1Zy4h-XWY8xuYsrYu_1WLukLk_6yR8ncDC9xNR1moDGxtqohVcY43oui1RBbKLkdwkFqMGE9YOUDJ7'>\n",
    "</center>"
   ]
  },
  {
   "cell_type": "code",
   "execution_count": null,
   "id": "381001f4",
   "metadata": {},
   "outputs": [],
   "source": [
    "observed = list(map(int,input('Enter Observed Values :')))\n",
    "expected = list(map(int,input('Enter Expected Values :')))\n",
    "\n",
    "chi_square = 0\n",
    "for o,e in zip(observed,expected):\n",
    "    chi_square += (((o - e) ** 2) / e)\n",
    "print(chi_square)"
   ]
  }
 ],
 "metadata": {
  "kernelspec": {
   "display_name": "Python 3 (ipykernel)",
   "language": "python",
   "name": "python3"
  },
  "language_info": {
   "codemirror_mode": {
    "name": "ipython",
    "version": 3
   },
   "file_extension": ".py",
   "mimetype": "text/x-python",
   "name": "python",
   "nbconvert_exporter": "python",
   "pygments_lexer": "ipython3",
   "version": "3.10.4"
  }
 },
 "nbformat": 4,
 "nbformat_minor": 5
}
